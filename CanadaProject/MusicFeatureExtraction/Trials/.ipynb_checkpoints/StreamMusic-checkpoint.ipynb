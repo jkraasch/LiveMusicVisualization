{
 "cells": [
  {
   "cell_type": "code",
   "execution_count": 1,
   "metadata": {},
   "outputs": [],
   "source": [
    "import pyaudio\n",
    "import wave\n",
    "import pickle\n",
    "import numpy as np\n",
    "import matplotlib.pyplot as plt"
   ]
  },
  {
   "cell_type": "code",
   "execution_count": 58,
   "metadata": {},
   "outputs": [
    {
     "name": "stdout",
     "output_type": "stream",
     "text": [
      "format = 8\n",
      "channels = 2\n",
      "framerate = 44100\n"
     ]
    },
    {
     "ename": "KeyboardInterrupt",
     "evalue": "",
     "output_type": "error",
     "traceback": [
      "\u001b[1;31m---------------------------------------------------------------------------\u001b[0m",
      "\u001b[1;31mKeyboardInterrupt\u001b[0m                         Traceback (most recent call last)",
      "\u001b[1;32m<ipython-input-58-627d8ac34957>\u001b[0m in \u001b[0;36m<module>\u001b[1;34m\u001b[0m\n\u001b[0;32m     19\u001b[0m     \u001b[1;31m#play chunks until at final note (empty string)\u001b[0m\u001b[1;33m\u001b[0m\u001b[1;33m\u001b[0m\u001b[1;33m\u001b[0m\u001b[0m\n\u001b[0;32m     20\u001b[0m     \u001b[1;32mwhile\u001b[0m \u001b[0mdata\u001b[0m \u001b[1;33m!=\u001b[0m \u001b[1;34m' '\u001b[0m\u001b[1;33m:\u001b[0m\u001b[1;33m\u001b[0m\u001b[1;33m\u001b[0m\u001b[0m\n\u001b[1;32m---> 21\u001b[1;33m         \u001b[0mstream\u001b[0m\u001b[1;33m.\u001b[0m\u001b[0mwrite\u001b[0m\u001b[1;33m(\u001b[0m\u001b[0mdata\u001b[0m\u001b[1;33m)\u001b[0m\u001b[1;33m\u001b[0m\u001b[1;33m\u001b[0m\u001b[0m\n\u001b[0m\u001b[0;32m     22\u001b[0m         \u001b[0mdata\u001b[0m \u001b[1;33m=\u001b[0m \u001b[0mwf\u001b[0m\u001b[1;33m.\u001b[0m\u001b[0mreadframes\u001b[0m\u001b[1;33m(\u001b[0m\u001b[0mCHUNK\u001b[0m\u001b[1;33m)\u001b[0m\u001b[1;33m\u001b[0m\u001b[1;33m\u001b[0m\u001b[0m\n\u001b[0;32m     23\u001b[0m         \u001b[1;31m#convert bytes to ints\u001b[0m\u001b[1;33m\u001b[0m\u001b[1;33m\u001b[0m\u001b[1;33m\u001b[0m\u001b[0m\n",
      "\u001b[1;32m~\\anaconda3\\envs\\VJ\\lib\\site-packages\\pyaudio.py\u001b[0m in \u001b[0;36mwrite\u001b[1;34m(self, frames, num_frames, exception_on_underflow)\u001b[0m\n\u001b[0;32m    584\u001b[0m \u001b[1;33m\u001b[0m\u001b[0m\n\u001b[0;32m    585\u001b[0m         pa.write_stream(self._stream, frames, num_frames,\n\u001b[1;32m--> 586\u001b[1;33m                         exception_on_underflow)\n\u001b[0m\u001b[0;32m    587\u001b[0m \u001b[1;33m\u001b[0m\u001b[0m\n\u001b[0;32m    588\u001b[0m \u001b[1;33m\u001b[0m\u001b[0m\n",
      "\u001b[1;31mKeyboardInterrupt\u001b[0m: "
     ]
    }
   ],
   "source": [
    "CHUNK = 4000\n",
    "\n",
    "with wave.open(\"../Music/beethovenwav.wav\", 'r') as wf:\n",
    "    p = pyaudio.PyAudio()\n",
    "    #stream to play music\n",
    "    form = p.get_format_from_width(wf.getsampwidth())\n",
    "    print(f\"format = {form}\")\n",
    "    print(f\"channels = {wf.getnchannels()}\")\n",
    "    print(f\"framerate = {wf.getframerate()}\")\n",
    "    stream = p.open(format=form,\n",
    "                channels=wf.getnchannels(),\n",
    "                rate=wf.getframerate(),\n",
    "                output=True)\n",
    "    \n",
    "    #get first chunk of notes\n",
    "    data = wf.readframes(CHUNK)\n",
    "    song = []\n",
    "    \n",
    "    #play chunks until at final note (empty string)\n",
    "    while data != ' ':\n",
    "        stream.write(data)\n",
    "        data = wf.readframes(CHUNK)\n",
    "        #convert bytes to ints\n",
    "        song.append(np.frombuffer(data, np.int8))\n",
    "        \n",
    "    stream.stop_stream()\n",
    "    stream.close()\n",
    "\n",
    "    p.terminate()"
   ]
  },
  {
   "cell_type": "code",
   "execution_count": 59,
   "metadata": {},
   "outputs": [
    {
     "name": "stdout",
     "output_type": "stream",
     "text": [
      "72\n"
     ]
    }
   ],
   "source": [
    "print(len(song))"
   ]
  },
  {
   "cell_type": "code",
   "execution_count": 60,
   "metadata": {},
   "outputs": [],
   "source": [
    "import scipy"
   ]
  },
  {
   "cell_type": "code",
   "execution_count": 2,
   "metadata": {},
   "outputs": [],
   "source": [
    "with open(\"songasnumpy.pkl\", \"rb\") as f:\n",
    "    ld_song = pickle.load(f)"
   ]
  },
  {
   "cell_type": "code",
   "execution_count": 78,
   "metadata": {},
   "outputs": [
    {
     "name": "stdout",
     "output_type": "stream",
     "text": [
      "PITCH: 0.0, GRAD_normed: 0.0\n",
      "PITCH: 11025.0, GRAD_normed: 11025.0\n",
      "PITCH: 11025.0, GRAD_normed: 0.0\n",
      "PITCH: 11025.0, GRAD_normed: 0.0\n",
      "PITCH: 11025.0, GRAD_normed: 0.0\n",
      "PITCH: 11545.93125, GRAD_normed: 520.9312499999996\n",
      "PITCH: 21950.775, GRAD_normed: 10404.843750000002\n",
      "PITCH: 21953.53125, GRAD_normed: 2.756249999998545\n",
      "PITCH: 99.22500000000001, GRAD_normed: -21854.30625\n",
      "PITCH: 10176.075, GRAD_normed: 10076.85\n",
      "PITCH: 21972.825, GRAD_normed: 11796.75\n",
      "PITCH: 11049.80625, GRAD_normed: -10923.018750000001\n",
      "PITCH: 11102.175000000001, GRAD_normed: 52.368750000001455\n",
      "PITCH: 11063.5875, GRAD_normed: -38.587500000001455\n",
      "PITCH: 10947.825, GRAD_normed: -115.76249999999891\n",
      "PITCH: 11063.5875, GRAD_normed: 115.76249999999891\n",
      "PITCH: 8436.88125, GRAD_normed: -2626.7062499999993\n",
      "PITCH: 4859.26875, GRAD_normed: -3577.6125\n",
      "PITCH: 11102.175000000001, GRAD_normed: 6242.906250000001\n",
      "PITCH: 5534.55, GRAD_normed: -5567.625000000001\n",
      "PITCH: 2590.875, GRAD_normed: -2943.675\n",
      "PITCH: 4718.7, GRAD_normed: 2127.825\n",
      "PITCH: 8425.85625, GRAD_normed: 3707.156250000001\n",
      "PITCH: 77.175, GRAD_normed: -8348.681250000001\n",
      "PITCH: 77.175, GRAD_normed: 0.0\n",
      "PITCH: 13522.1625, GRAD_normed: 13444.987500000001\n",
      "PITCH: 7918.70625, GRAD_normed: -5603.45625\n",
      "PITCH: 9277.5375, GRAD_normed: 1358.8312500000002\n",
      "PITCH: 77.175, GRAD_normed: -9200.362500000001\n",
      "PITCH: 77.175, GRAD_normed: 0.0\n",
      "PITCH: 2353.8375, GRAD_normed: 2276.6625\n",
      "PITCH: 217.74375, GRAD_normed: -2136.09375\n",
      "PITCH: 11912.5125, GRAD_normed: 11694.768750000001\n",
      "PITCH: 995.00625, GRAD_normed: -10917.50625\n",
      "PITCH: 785.53125, GRAD_normed: -209.47500000000002\n",
      "PITCH: 259.08750000000003, GRAD_normed: -526.4437499999999\n",
      "PITCH: 1810.85625, GRAD_normed: 1551.76875\n",
      "PITCH: 11113.2, GRAD_normed: 9302.34375\n",
      "PITCH: 10980.9, GRAD_normed: -132.3000000000011\n",
      "PITCH: 2012.0625, GRAD_normed: -8968.8375\n",
      "PITCH: 10936.800000000001, GRAD_normed: 8924.737500000001\n",
      "PITCH: 11096.6625, GRAD_normed: 159.86249999999927\n",
      "PITCH: 11099.41875, GRAD_normed: 2.756250000000364\n",
      "PITCH: 35.831250000000004, GRAD_normed: -11063.587500000001\n",
      "PITCH: 10950.581250000001, GRAD_normed: 10914.750000000002\n",
      "PITCH: 3723.69375, GRAD_normed: -7226.887500000001\n",
      "PITCH: 11099.41875, GRAD_normed: 7375.725\n",
      "PITCH: 11025.0, GRAD_normed: -74.41875000000073\n",
      "PITCH: 11044.29375, GRAD_normed: 19.293750000000728\n",
      "PITCH: 10953.3375, GRAD_normed: -90.95625000000109\n",
      "PITCH: 11005.706250000001, GRAD_normed: 52.368750000001455\n",
      "PITCH: 2196.7312500000003, GRAD_normed: -8808.975\n",
      "PITCH: 21352.66875, GRAD_normed: 19155.9375\n",
      "PITCH: 74.41875, GRAD_normed: -21278.25\n",
      "PITCH: 11099.41875, GRAD_normed: 11025.0\n",
      "PITCH: 21030.1875, GRAD_normed: 9930.76875\n",
      "PITCH: 74.41875, GRAD_normed: -20955.76875\n",
      "PITCH: 10950.581250000001, GRAD_normed: 10876.1625\n",
      "PITCH: 21975.58125, GRAD_normed: 11024.999999999998\n",
      "PITCH: 3536.26875, GRAD_normed: -18439.3125\n",
      "PITCH: 8051.00625, GRAD_normed: 4514.7375\n",
      "PITCH: 71.66250000000001, GRAD_normed: -7979.34375\n",
      "PITCH: 21975.58125, GRAD_normed: 21903.91875\n",
      "PITCH: 21994.875, GRAD_normed: 19.293750000000728\n",
      "PITCH: 3982.78125, GRAD_normed: -18012.09375\n",
      "PITCH: 4567.10625, GRAD_normed: 584.3249999999998\n",
      "PITCH: 1444.275, GRAD_normed: -3122.8312499999997\n",
      "PITCH: 10404.84375, GRAD_normed: 8960.56875\n",
      "PITCH: 1061.15625, GRAD_normed: -9343.6875\n",
      "PITCH: 11025.0, GRAD_normed: 9963.84375\n",
      "PITCH: 1135.575, GRAD_normed: -9889.425\n",
      "PITCH: 0.0, GRAD_normed: -1135.575\n"
     ]
    }
   ],
   "source": [
    "buffer = 0\n",
    "grads = []\n",
    "pitches = []\n",
    "for sample in song:\n",
    "    \n",
    "    fft = abs(np.fft.fft(sample).real) #fft of sample to map to frequency space\n",
    "    fft = fft[:len(fft)//2] #Fourierspace loops\n",
    "    \n",
    "    freq = np.fft.fftfreq(len(sample), 1.0/44100)\n",
    "    #for i, sub_freq in enumerate(fft[::len(fft)//16]):\n",
    "        #print(\"-------In FOR-----\", i)\n",
    "        #print(np.mean(sub_freq))\n",
    "    data = sample.tobytes() \n",
    "    stream.write(data)\n",
    "    pitch = freq[np.argmax(fft)] \n",
    "    grad = np.gradient([buffer,pitch])\n",
    "    pitches.append(pitch)\n",
    "    grads.append(grad[0])\n",
    "    print(F\"PITCH: {pitch}, GRAD_normed: {grad[0]}\")\n",
    "    \n",
    "    \n",
    "    buffer = pitch\n",
    "    \n",
    "    \"\"\"plt.plot(freq[:len(fft)], fft)\n",
    "    plt.show()\"\"\""
   ]
  },
  {
   "cell_type": "code",
   "execution_count": 79,
   "metadata": {},
   "outputs": [
    {
     "data": {
      "text/plain": [
       "[<matplotlib.lines.Line2D at 0x191dc3deb48>]"
      ]
     },
     "execution_count": 79,
     "metadata": {},
     "output_type": "execute_result"
    },
    {
     "data": {
      "image/png": "[encoded data removed]",
      "text/plain": [
       "<Figure size 432x288 with 1 Axes>"
      ]
     },
     "metadata": {
      "needs_background": "light"
     },
     "output_type": "display_data"
    }
   ],
   "source": [
    "plt.plot(pitches)"
   ]
  },
  {
   "cell_type": "code",
   "execution_count": 81,
   "metadata": {},
   "outputs": [
    {
     "data": {
      "text/plain": [
       "[<matplotlib.lines.Line2D at 0x191dc0e00c8>]"
      ]
     },
     "execution_count": 81,
     "metadata": {},
     "output_type": "execute_result"
    },
    {
     "data": {
      "image/png": "[encoded data removed]",
      "text/plain": [
       "<Figure size 432x288 with 1 Axes>"
      ]
     },
     "metadata": {
      "needs_background": "light"
     },
     "output_type": "display_data"
    }
   ],
   "source": [
    "plt.plot(grads/np.max(grads))"
   ]
  },
  {
   "cell_type": "code",
   "execution_count": 8,
   "metadata": {},
   "outputs": [],
   "source": [
    "import librosa"
   ]
  },
  {
   "cell_type": "code",
   "execution_count": 9,
   "metadata": {},
   "outputs": [
    {
     "name": "stdout",
     "output_type": "stream",
     "text": [
      "[[0.]\n",
      " [0.]\n",
      " [0.]\n",
      " [0.]\n",
      " [0.]\n",
      " [0.]\n",
      " [0.]\n",
      " [0.]\n",
      " [0.]\n",
      " [0.]\n",
      " [0.]\n",
      " [0.]\n",
      " [0.]\n",
      " [0.]\n",
      " [0.]\n",
      " [0.]\n",
      " [0.]\n",
      " [0.]\n",
      " [0.]\n",
      " [0.]\n",
      " [0.]\n",
      " [0.]\n",
      " [0.]\n",
      " [0.]\n",
      " [0.]\n",
      " [0.]\n",
      " [0.]\n",
      " [0.]\n",
      " [0.]\n",
      " [0.]\n",
      " [0.]\n",
      " [0.]\n",
      " [0.]\n",
      " [0.]\n",
      " [0.]\n",
      " [0.]\n",
      " [0.]\n",
      " [0.]\n",
      " [0.]\n",
      " [0.]\n",
      " [0.]\n",
      " [0.]\n",
      " [0.]\n",
      " [0.]\n",
      " [0.]\n",
      " [0.]\n",
      " [0.]\n",
      " [0.]\n",
      " [0.]\n",
      " [0.]\n",
      " [0.]\n",
      " [0.]\n",
      " [0.]\n",
      " [0.]\n",
      " [0.]\n",
      " [0.]\n",
      " [0.]\n",
      " [0.]\n",
      " [0.]\n",
      " [0.]\n",
      " [0.]\n",
      " [0.]\n",
      " [0.]\n",
      " [0.]\n",
      " [0.]\n",
      " [0.]\n",
      " [0.]\n",
      " [0.]\n",
      " [0.]\n",
      " [0.]\n",
      " [0.]\n",
      " [0.]\n",
      " [0.]\n",
      " [0.]\n",
      " [0.]\n",
      " [0.]\n",
      " [0.]\n",
      " [0.]\n",
      " [0.]\n",
      " [0.]\n",
      " [0.]\n",
      " [0.]\n",
      " [0.]\n",
      " [0.]\n",
      " [0.]\n",
      " [0.]\n",
      " [0.]\n",
      " [0.]\n",
      " [0.]\n",
      " [0.]\n",
      " [0.]\n",
      " [0.]\n",
      " [0.]\n",
      " [0.]\n",
      " [0.]\n",
      " [0.]\n",
      " [0.]\n",
      " [0.]\n",
      " [0.]\n",
      " [0.]\n",
      " [0.]\n",
      " [0.]\n",
      " [0.]\n",
      " [0.]\n",
      " [0.]\n",
      " [0.]\n",
      " [0.]\n",
      " [0.]\n",
      " [0.]\n",
      " [0.]\n",
      " [0.]\n",
      " [0.]\n",
      " [0.]\n",
      " [0.]\n",
      " [0.]\n",
      " [0.]\n",
      " [0.]\n",
      " [0.]\n",
      " [0.]\n",
      " [0.]\n",
      " [0.]\n",
      " [0.]\n",
      " [0.]\n",
      " [0.]\n",
      " [0.]\n",
      " [0.]\n",
      " [0.]\n",
      " [0.]] SPEC\n"
     ]
    },
    {
     "ename": "ValueError",
     "evalue": "Shape of array too small to calculate a numerical gradient, at least (edge_order + 1) elements are required.",
     "output_type": "error",
     "traceback": [
      "\u001b[1;31m---------------------------------------------------------------------------\u001b[0m",
      "\u001b[1;31mValueError\u001b[0m                                Traceback (most recent call last)",
      "\u001b[1;32m<ipython-input-9-592e4999766e>\u001b[0m in \u001b[0;36m<module>\u001b[1;34m\u001b[0m\n\u001b[0;32m     11\u001b[0m \u001b[1;33m\u001b[0m\u001b[0m\n\u001b[0;32m     12\u001b[0m     \u001b[1;31m#compute power gradient across time points\u001b[0m\u001b[1;33m\u001b[0m\u001b[1;33m\u001b[0m\u001b[1;33m\u001b[0m\u001b[0m\n\u001b[1;32m---> 13\u001b[1;33m     \u001b[0mgradm\u001b[0m\u001b[1;33m=\u001b[0m\u001b[0mnp\u001b[0m\u001b[1;33m.\u001b[0m\u001b[0mgradient\u001b[0m\u001b[1;33m(\u001b[0m\u001b[0mspecm\u001b[0m\u001b[1;33m)\u001b[0m\u001b[1;33m\u001b[0m\u001b[1;33m\u001b[0m\u001b[0m\n\u001b[0m\u001b[0;32m     14\u001b[0m \u001b[1;33m\u001b[0m\u001b[0m\n\u001b[0;32m     15\u001b[0m     \u001b[1;31m#set max to 1\u001b[0m\u001b[1;33m\u001b[0m\u001b[1;33m\u001b[0m\u001b[1;33m\u001b[0m\u001b[0m\n",
      "\u001b[1;32m<__array_function__ internals>\u001b[0m in \u001b[0;36mgradient\u001b[1;34m(*args, **kwargs)\u001b[0m\n",
      "\u001b[1;32m~\\anaconda3\\envs\\VJ\\lib\\site-packages\\numpy\\lib\\function_base.py\u001b[0m in \u001b[0;36mgradient\u001b[1;34m(f, *varargs, **kwargs)\u001b[0m\n\u001b[0;32m   1040\u001b[0m         \u001b[1;32mif\u001b[0m \u001b[0mf\u001b[0m\u001b[1;33m.\u001b[0m\u001b[0mshape\u001b[0m\u001b[1;33m[\u001b[0m\u001b[0maxis\u001b[0m\u001b[1;33m]\u001b[0m \u001b[1;33m<\u001b[0m \u001b[0medge_order\u001b[0m \u001b[1;33m+\u001b[0m \u001b[1;36m1\u001b[0m\u001b[1;33m:\u001b[0m\u001b[1;33m\u001b[0m\u001b[1;33m\u001b[0m\u001b[0m\n\u001b[0;32m   1041\u001b[0m             raise ValueError(\n\u001b[1;32m-> 1042\u001b[1;33m                 \u001b[1;34m\"Shape of array too small to calculate a numerical gradient, \"\u001b[0m\u001b[1;33m\u001b[0m\u001b[1;33m\u001b[0m\u001b[0m\n\u001b[0m\u001b[0;32m   1043\u001b[0m                 \"at least (edge_order + 1) elements are required.\")\n\u001b[0;32m   1044\u001b[0m         \u001b[1;31m# result allocation\u001b[0m\u001b[1;33m\u001b[0m\u001b[1;33m\u001b[0m\u001b[1;33m\u001b[0m\u001b[0m\n",
      "\u001b[1;31mValueError\u001b[0m: Shape of array too small to calculate a numerical gradient, at least (edge_order + 1) elements are required."
     ]
    }
   ],
   "source": [
    "buffer = 0\n",
    "grads = []\n",
    "pitches = []\n",
    "for sample in ld_song[:1]:\n",
    "   \n",
    "    #create spectrogram\n",
    "    spec = librosa.feature.melspectrogram(y=sample.astype(np.float32), sr=44100, n_mels=128,fmax=8000)\n",
    "    \n",
    "    #get mean power at each time point\n",
    "    specm=np.mean(spec,axis=0)\n",
    "    print(specm, \"SPEC\")\n",
    "    #compute power gradient across time points\n",
    "    gradm=np.gradient(specm)\n",
    "\n",
    "    #set max to 1\n",
    "    gradm=gradm/np.max(gradm)\n",
    "    \n",
    "    \n",
    "    data = sample.tobytes()\n",
    "    stream.write(data)\n",
    "    "
   ]
  },
  {
   "cell_type": "code",
   "execution_count": null,
   "metadata": {},
   "outputs": [],
   "source": []
  }
 ],
 "metadata": {
  "kernelspec": {
   "display_name": "Python 3",
   "language": "python",
   "name": "python3"
  },
  "language_info": {
   "codemirror_mode": {
    "name": "ipython",
    "version": 3
   },
   "file_extension": ".py",
   "mimetype": "text/x-python",
   "name": "python",
   "nbconvert_exporter": "python",
   "pygments_lexer": "ipython3",
   "version": "3.7.7"
  }
 },
 "nbformat": 4,
 "nbformat_minor": 4
}
